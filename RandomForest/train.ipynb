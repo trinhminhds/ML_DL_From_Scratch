{
 "cells": [
  {
   "cell_type": "code",
   "id": "initial_id",
   "metadata": {
    "collapsed": true,
    "ExecuteTime": {
     "end_time": "2025-03-05T11:22:47.216255Z",
     "start_time": "2025-03-05T11:22:46.363910Z"
    }
   },
   "source": [
    "from random import random\n",
    "from sklearn import datasets\n",
    "from sklearn.model_selection import train_test_split\n",
    "import numpy as np\n",
    "from RandomForest import RandomForest"
   ],
   "outputs": [],
   "execution_count": 1
  },
  {
   "metadata": {
    "ExecuteTime": {
     "end_time": "2025-03-05T11:23:13.370185Z",
     "start_time": "2025-03-05T11:23:13.358250Z"
    }
   },
   "cell_type": "code",
   "source": [
    "data = datasets.load_breast_cancer()\n",
    "X = data.data\n",
    "y = data.target"
   ],
   "id": "e7710bfb73f247b6",
   "outputs": [],
   "execution_count": 2
  },
  {
   "metadata": {
    "ExecuteTime": {
     "end_time": "2025-03-05T11:24:10.202653Z",
     "start_time": "2025-03-05T11:24:10.197810Z"
    }
   },
   "cell_type": "code",
   "source": "X_train, X_test, y_train, y_test = train_test_split(X, y, test_size = 0.2, random_state = 42)",
   "id": "221c1e633f163ba5",
   "outputs": [],
   "execution_count": 3
  },
  {
   "metadata": {
    "ExecuteTime": {
     "end_time": "2025-03-05T11:24:48.155574Z",
     "start_time": "2025-03-05T11:24:48.151720Z"
    }
   },
   "cell_type": "code",
   "source": [
    "def accuracy(y_test, y_pred):\n",
    "    accuracy = np.sum(y_test == y_pred) / len(y_test)\n",
    "    return accuracy"
   ],
   "id": "a7b9a6e9d81e3a6c",
   "outputs": [],
   "execution_count": 4
  },
  {
   "metadata": {
    "ExecuteTime": {
     "end_time": "2025-03-05T11:25:39.390308Z",
     "start_time": "2025-03-05T11:25:20.499569Z"
    }
   },
   "cell_type": "code",
   "source": [
    "clf = RandomForest(n_trees = 20)\n",
    "clf.fit(X_train, y_train)\n",
    "predictions = clf.predict(X_test)"
   ],
   "id": "49460de56ab74b99",
   "outputs": [],
   "execution_count": 5
  },
  {
   "metadata": {
    "ExecuteTime": {
     "end_time": "2025-03-05T11:26:30.612582Z",
     "start_time": "2025-03-05T11:26:30.608052Z"
    }
   },
   "cell_type": "code",
   "source": [
    "acc = accuracy(y_test, predictions)\n",
    "print(acc)"
   ],
   "id": "fc4cae9688defb3d",
   "outputs": [
    {
     "name": "stdout",
     "output_type": "stream",
     "text": [
      "0.956140350877193\n"
     ]
    }
   ],
   "execution_count": 6
  }
 ],
 "metadata": {
  "kernelspec": {
   "display_name": "Python 3",
   "language": "python",
   "name": "python3"
  },
  "language_info": {
   "codemirror_mode": {
    "name": "ipython",
    "version": 2
   },
   "file_extension": ".py",
   "mimetype": "text/x-python",
   "name": "python",
   "nbconvert_exporter": "python",
   "pygments_lexer": "ipython2",
   "version": "2.7.6"
  }
 },
 "nbformat": 4,
 "nbformat_minor": 5
}
